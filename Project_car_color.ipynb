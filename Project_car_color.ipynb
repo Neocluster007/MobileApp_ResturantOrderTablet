{
  "cells": [
    {
      "cell_type": "markdown",
      "metadata": {
        "id": "view-in-github",
        "colab_type": "text"
      },
      "source": [
        "<a href=\"https://colab.research.google.com/github/ballbuen19/MobileApp_ResturantOrderTablet/blob/main/Project_car_color.ipynb\" target=\"_parent\"><img src=\"https://colab.research.google.com/assets/colab-badge.svg\" alt=\"Open In Colab\"/></a>"
      ]
    },
    {
      "cell_type": "markdown",
      "metadata": {
        "id": "xRlSKMPdQCzH"
      },
      "source": [
        "Setup"
      ]
    },
    {
      "cell_type": "code",
      "execution_count": null,
      "metadata": {
        "colab": {
          "base_uri": "https://localhost:8080/"
        },
        "id": "njrzVQZ7Xpeq",
        "outputId": "765249df-5bb1-489d-c8d4-a384b735195f"
      },
      "outputs": [
        {
          "output_type": "stream",
          "name": "stderr",
          "text": [
            "YOLOv5 🚀 v7.0-59-gfdc35b1 Python-3.8.16 torch-1.13.0+cu116 CUDA:0 (Tesla T4, 15110MiB)\n"
          ]
        },
        {
          "output_type": "stream",
          "name": "stdout",
          "text": [
            "Setup complete ✅ (4 CPUs, 25.5 GB RAM, 23.1/166.8 GB disk)\n"
          ]
        }
      ],
      "source": [
        "!git clone https://github.com/ultralytics/yolov5  # clone\n",
        "%cd yolov5\n",
        "%pip install -qr requirements.txt  # install\n",
        "\n",
        "import torch\n",
        "import utils\n",
        "display = utils.notebook_init()  # checks"
      ]
    },
    {
      "cell_type": "markdown",
      "metadata": {
        "id": "ISxPSCDRQGf_"
      },
      "source": [
        "Test Detect"
      ]
    },
    {
      "cell_type": "code",
      "execution_count": null,
      "metadata": {
        "id": "sasmX0DrYyQe",
        "colab": {
          "base_uri": "https://localhost:8080/"
        },
        "outputId": "16c7e7c0-89d1-4352-f8cc-356699cc0ca2"
      },
      "outputs": [
        {
          "output_type": "stream",
          "name": "stdout",
          "text": [
            "\u001b[34m\u001b[1mdetect: \u001b[0mweights=['yolov5s.pt'], source=data/images, data=data/coco128.yaml, imgsz=[640, 640], conf_thres=0.25, iou_thres=0.45, max_det=1000, device=, view_img=False, save_txt=False, save_conf=False, save_crop=False, nosave=False, classes=None, agnostic_nms=False, augment=False, visualize=False, update=False, project=runs/detect, name=exp, exist_ok=False, line_thickness=3, hide_labels=False, hide_conf=False, half=False, dnn=False, vid_stride=1\n",
            "YOLOv5 🚀 v7.0-59-gfdc35b1 Python-3.8.16 torch-1.13.0+cu116 CUDA:0 (Tesla T4, 15110MiB)\n",
            "\n",
            "Downloading https://github.com/ultralytics/yolov5/releases/download/v7.0/yolov5s.pt to yolov5s.pt...\n",
            "100% 14.1M/14.1M [00:00<00:00, 15.7MB/s]\n",
            "\n",
            "Fusing layers... \n",
            "YOLOv5s summary: 213 layers, 7225885 parameters, 0 gradients\n",
            "image 1/2 /content/yolov5/data/images/bus.jpg: 640x480 4 persons, 1 bus, 17.1ms\n",
            "image 2/2 /content/yolov5/data/images/zidane.jpg: 384x640 2 persons, 2 ties, 12.9ms\n",
            "Speed: 0.5ms pre-process, 15.0ms inference, 20.0ms NMS per image at shape (1, 3, 640, 640)\n",
            "Results saved to \u001b[1mruns/detect/exp\u001b[0m\n"
          ]
        }
      ],
      "source": [
        "!python detect.py --weights yolov5s.pt --img 640 --conf 0.25 --source data/images"
      ]
    },
    {
      "cell_type": "markdown",
      "metadata": {
        "id": "0ZvswpNDP-33"
      },
      "source": [
        "เทรน"
      ]
    },
    {
      "cell_type": "markdown",
      "metadata": {
        "id": "nFBMZ58MPU7p"
      },
      "source": [
        "แก้ไฟลล์ ใน data/test1234.yaml\n",
        "\n",
        "\n",
        "train: D:\\Project_ML\\Project\\train  # train images (relative to 'path') 118287 images\n",
        "val: D:\\Project_ML\\Project\\train  # val images (relative to 'path') 5000 images\n",
        "\n",
        "# Classes\n",
        "names:\n",
        "  0: yaris_red\n"
      ]
    },
    {
      "cell_type": "markdown",
      "metadata": {
        "id": "uFoIsEVAPpiv"
      },
      "source": [
        "แก้ไข models/yolov5s.yaml\n",
        "\n",
        "size label"
      ]
    },
    {
      "cell_type": "code",
      "execution_count": null,
      "metadata": {
        "colab": {
          "base_uri": "https://localhost:8080/"
        },
        "id": "dRPO2XEByXxR",
        "outputId": "ac403e24-8f6c-4a8e-aecf-7e62bf9b89dc"
      },
      "outputs": [
        {
          "output_type": "stream",
          "name": "stdout",
          "text": [
            "\u001b[34m\u001b[1mtrain: \u001b[0mweights=yolov5s.pt, cfg=, data=test1234.yaml, hyp=data/hyps/hyp.scratch-low.yaml, epochs=20, batch_size=16, imgsz=640, rect=False, resume=False, nosave=False, noval=False, noautoanchor=False, noplots=False, evolve=None, bucket=, cache=None, image_weights=False, device=, multi_scale=False, single_cls=False, optimizer=SGD, sync_bn=False, workers=8, project=runs/train, name=exp, exist_ok=False, quad=False, cos_lr=False, label_smoothing=0.0, patience=100, freeze=[0], save_period=-1, seed=0, local_rank=-1, entity=None, upload_dataset=False, bbox_interval=-1, artifact_alias=latest\n",
            "\u001b[34m\u001b[1mgithub: \u001b[0mup to date with https://github.com/ultralytics/yolov5 ✅\n",
            "YOLOv5 🚀 v7.0-59-gfdc35b1 Python-3.8.16 torch-1.13.0+cu116 CUDA:0 (Tesla T4, 15110MiB)\n",
            "\n",
            "\u001b[34m\u001b[1mhyperparameters: \u001b[0mlr0=0.01, lrf=0.01, momentum=0.937, weight_decay=0.0005, warmup_epochs=3.0, warmup_momentum=0.8, warmup_bias_lr=0.1, box=0.05, cls=0.5, cls_pw=1.0, obj=1.0, obj_pw=1.0, iou_t=0.2, anchor_t=4.0, fl_gamma=0.0, hsv_h=0.015, hsv_s=0.7, hsv_v=0.4, degrees=0.0, translate=0.1, scale=0.5, shear=0.0, perspective=0.0, flipud=0.0, fliplr=0.5, mosaic=1.0, mixup=0.0, copy_paste=0.0\n",
            "\u001b[34m\u001b[1mClearML: \u001b[0mrun 'pip install clearml' to automatically track, visualize and remotely train YOLOv5 🚀 in ClearML\n",
            "\u001b[34m\u001b[1mComet: \u001b[0mrun 'pip install comet_ml' to automatically track and visualize YOLOv5 🚀 runs in Comet\n",
            "\u001b[34m\u001b[1mTensorBoard: \u001b[0mStart with 'tensorboard --logdir runs/train', view at http://localhost:6006/\n",
            "Overriding model.yaml nc=80 with nc=2\n",
            "\n",
            "                 from  n    params  module                                  arguments                     \n",
            "  0                -1  1      3520  models.common.Conv                      [3, 32, 6, 2, 2]              \n",
            "  1                -1  1     18560  models.common.Conv                      [32, 64, 3, 2]                \n",
            "  2                -1  1     18816  models.common.C3                        [64, 64, 1]                   \n",
            "  3                -1  1     73984  models.common.Conv                      [64, 128, 3, 2]               \n",
            "  4                -1  2    115712  models.common.C3                        [128, 128, 2]                 \n",
            "  5                -1  1    295424  models.common.Conv                      [128, 256, 3, 2]              \n",
            "  6                -1  3    625152  models.common.C3                        [256, 256, 3]                 \n",
            "  7                -1  1   1180672  models.common.Conv                      [256, 512, 3, 2]              \n",
            "  8                -1  1   1182720  models.common.C3                        [512, 512, 1]                 \n",
            "  9                -1  1    656896  models.common.SPPF                      [512, 512, 5]                 \n",
            " 10                -1  1    131584  models.common.Conv                      [512, 256, 1, 1]              \n",
            " 11                -1  1         0  torch.nn.modules.upsampling.Upsample    [None, 2, 'nearest']          \n",
            " 12           [-1, 6]  1         0  models.common.Concat                    [1]                           \n",
            " 13                -1  1    361984  models.common.C3                        [512, 256, 1, False]          \n",
            " 14                -1  1     33024  models.common.Conv                      [256, 128, 1, 1]              \n",
            " 15                -1  1         0  torch.nn.modules.upsampling.Upsample    [None, 2, 'nearest']          \n",
            " 16           [-1, 4]  1         0  models.common.Concat                    [1]                           \n",
            " 17                -1  1     90880  models.common.C3                        [256, 128, 1, False]          \n",
            " 18                -1  1    147712  models.common.Conv                      [128, 128, 3, 2]              \n",
            " 19          [-1, 14]  1         0  models.common.Concat                    [1]                           \n",
            " 20                -1  1    296448  models.common.C3                        [256, 256, 1, False]          \n",
            " 21                -1  1    590336  models.common.Conv                      [256, 256, 3, 2]              \n",
            " 22          [-1, 10]  1         0  models.common.Concat                    [1]                           \n",
            " 23                -1  1   1182720  models.common.C3                        [512, 512, 1, False]          \n",
            " 24      [17, 20, 23]  1     18879  models.yolo.Detect                      [2, [[10, 13, 16, 30, 33, 23], [30, 61, 62, 45, 59, 119], [116, 90, 156, 198, 373, 326]], [128, 256, 512]]\n",
            "Model summary: 214 layers, 7025023 parameters, 7025023 gradients, 16.0 GFLOPs\n",
            "\n",
            "Transferred 343/349 items from yolov5s.pt\n",
            "\u001b[34m\u001b[1mAMP: \u001b[0mchecks passed ✅\n",
            "\u001b[34m\u001b[1moptimizer:\u001b[0m SGD(lr=0.01) with parameter groups 57 weight(decay=0.0), 60 weight(decay=0.0005), 60 bias\n",
            "\u001b[34m\u001b[1malbumentations: \u001b[0mBlur(p=0.01, blur_limit=(3, 7)), MedianBlur(p=0.01, blur_limit=(3, 7)), ToGray(p=0.01), CLAHE(p=0.01, clip_limit=(1, 4.0), tile_grid_size=(8, 8))\n",
            "\u001b[34m\u001b[1mtrain: \u001b[0mScanning /content/drive/MyDrive/Project_ML_Colab_test_catdog/train/labels... 327 images, 0 backgrounds, 0 corrupt: 100% 327/327 [01:08<00:00,  4.78it/s]\n",
            "\u001b[34m\u001b[1mtrain: \u001b[0mNew cache created: /content/drive/MyDrive/Project_ML_Colab_test_catdog/train/labels.cache\n",
            "\u001b[34m\u001b[1mval: \u001b[0mScanning /content/drive/MyDrive/Project_ML_Colab_test_catdog/train/labels.cache... 327 images, 0 backgrounds, 0 corrupt: 100% 327/327 [00:00<?, ?it/s]\n",
            "\n",
            "\u001b[34m\u001b[1mAutoAnchor: \u001b[0m2.17 anchors/target, 1.000 Best Possible Recall (BPR). Current anchors are a good fit to dataset ✅\n",
            "Plotting labels to runs/train/exp/labels.jpg... \n",
            "Image sizes 640 train, 640 val\n",
            "Using 4 dataloader workers\n",
            "Logging results to \u001b[1mruns/train/exp\u001b[0m\n",
            "Starting training for 20 epochs...\n",
            "\n",
            "      Epoch    GPU_mem   box_loss   obj_loss   cls_loss  Instances       Size\n",
            "       0/19      3.72G    0.08549    0.02912    0.02355         17        640: 100% 21/21 [00:07<00:00,  2.78it/s]\n",
            "                 Class     Images  Instances          P          R      mAP50   mAP50-95: 100% 11/11 [00:07<00:00,  1.46it/s]\n",
            "                   all        327        327    0.00306      0.912     0.0142    0.00446\n",
            "\n",
            "      Epoch    GPU_mem   box_loss   obj_loss   cls_loss  Instances       Size\n",
            "       1/19      4.62G    0.05178    0.02573    0.01931         18        640: 100% 21/21 [00:04<00:00,  4.71it/s]\n",
            "                 Class     Images  Instances          P          R      mAP50   mAP50-95: 100% 11/11 [00:04<00:00,  2.75it/s]\n",
            "                   all        327        327      0.369       0.41      0.345      0.129\n",
            "\n",
            "      Epoch    GPU_mem   box_loss   obj_loss   cls_loss  Instances       Size\n",
            "       2/19      4.62G    0.04282    0.02286     0.0173         16        640: 100% 21/21 [00:04<00:00,  4.66it/s]\n",
            "                 Class     Images  Instances          P          R      mAP50   mAP50-95: 100% 11/11 [00:03<00:00,  3.17it/s]\n",
            "                   all        327        327      0.191      0.552       0.19     0.0696\n",
            "\n",
            "      Epoch    GPU_mem   box_loss   obj_loss   cls_loss  Instances       Size\n",
            "       3/19      4.62G     0.0469    0.01949    0.01679         16        640: 100% 21/21 [00:04<00:00,  4.72it/s]\n",
            "                 Class     Images  Instances          P          R      mAP50   mAP50-95: 100% 11/11 [00:03<00:00,  3.34it/s]\n",
            "                   all        327        327      0.357      0.651      0.386      0.135\n",
            "\n",
            "      Epoch    GPU_mem   box_loss   obj_loss   cls_loss  Instances       Size\n",
            "       4/19      4.62G    0.04482    0.01764    0.01122         13        640: 100% 21/21 [00:04<00:00,  4.63it/s]\n",
            "                 Class     Images  Instances          P          R      mAP50   mAP50-95: 100% 11/11 [00:03<00:00,  3.47it/s]\n",
            "                   all        327        327      0.519      0.728       0.58      0.221\n",
            "\n",
            "      Epoch    GPU_mem   box_loss   obj_loss   cls_loss  Instances       Size\n",
            "       5/19      4.62G    0.03829    0.01777    0.01377         15        640: 100% 21/21 [00:04<00:00,  4.65it/s]\n",
            "                 Class     Images  Instances          P          R      mAP50   mAP50-95: 100% 11/11 [00:03<00:00,  3.44it/s]\n",
            "                   all        327        327      0.695      0.641      0.725      0.286\n",
            "\n",
            "      Epoch    GPU_mem   box_loss   obj_loss   cls_loss  Instances       Size\n",
            "       6/19      4.62G    0.03844    0.01768    0.01091         20        640: 100% 21/21 [00:04<00:00,  4.70it/s]\n",
            "                 Class     Images  Instances          P          R      mAP50   mAP50-95: 100% 11/11 [00:03<00:00,  3.40it/s]\n",
            "                   all        327        327      0.525      0.764      0.641      0.267\n",
            "\n",
            "      Epoch    GPU_mem   box_loss   obj_loss   cls_loss  Instances       Size\n",
            "       7/19      4.62G    0.03587     0.0177   0.008769         18        640: 100% 21/21 [00:04<00:00,  4.84it/s]\n",
            "                 Class     Images  Instances          P          R      mAP50   mAP50-95: 100% 11/11 [00:03<00:00,  3.33it/s]\n",
            "                   all        327        327       0.49      0.719      0.524       0.24\n",
            "\n",
            "      Epoch    GPU_mem   box_loss   obj_loss   cls_loss  Instances       Size\n",
            "       8/19      4.62G     0.0338     0.0167   0.008605         21        640: 100% 21/21 [00:04<00:00,  4.90it/s]\n",
            "                 Class     Images  Instances          P          R      mAP50   mAP50-95: 100% 11/11 [00:03<00:00,  3.37it/s]\n",
            "                   all        327        327      0.661      0.804      0.845      0.406\n",
            "\n",
            "      Epoch    GPU_mem   box_loss   obj_loss   cls_loss  Instances       Size\n",
            "       9/19      4.62G    0.03153    0.01666    0.01017         17        640: 100% 21/21 [00:04<00:00,  4.73it/s]\n",
            "                 Class     Images  Instances          P          R      mAP50   mAP50-95: 100% 11/11 [00:03<00:00,  3.48it/s]\n",
            "                   all        327        327      0.533       0.68      0.604       0.22\n",
            "\n",
            "      Epoch    GPU_mem   box_loss   obj_loss   cls_loss  Instances       Size\n",
            "      10/19      4.62G    0.03619    0.01615    0.00708         19        640: 100% 21/21 [00:04<00:00,  4.60it/s]\n",
            "                 Class     Images  Instances          P          R      mAP50   mAP50-95: 100% 11/11 [00:03<00:00,  3.47it/s]\n",
            "                   all        327        327      0.852      0.825      0.901      0.427\n",
            "\n",
            "      Epoch    GPU_mem   box_loss   obj_loss   cls_loss  Instances       Size\n",
            "      11/19      4.62G    0.02923    0.01533     0.0067         13        640: 100% 21/21 [00:04<00:00,  4.72it/s]\n",
            "                 Class     Images  Instances          P          R      mAP50   mAP50-95: 100% 11/11 [00:03<00:00,  3.30it/s]\n",
            "                   all        327        327      0.913      0.949      0.987      0.511\n",
            "\n",
            "      Epoch    GPU_mem   box_loss   obj_loss   cls_loss  Instances       Size\n",
            "      12/19      4.62G    0.02451    0.01522   0.004991         17        640: 100% 21/21 [00:04<00:00,  4.69it/s]\n",
            "                 Class     Images  Instances          P          R      mAP50   mAP50-95: 100% 11/11 [00:03<00:00,  3.40it/s]\n",
            "                   all        327        327      0.902       0.94      0.953      0.452\n",
            "\n",
            "      Epoch    GPU_mem   box_loss   obj_loss   cls_loss  Instances       Size\n",
            "      13/19      4.62G    0.02627    0.01503    0.00384         20        640: 100% 21/21 [00:04<00:00,  4.84it/s]\n",
            "                 Class     Images  Instances          P          R      mAP50   mAP50-95: 100% 11/11 [00:03<00:00,  3.37it/s]\n",
            "                   all        327        327      0.896      0.918      0.959      0.556\n",
            "\n",
            "      Epoch    GPU_mem   box_loss   obj_loss   cls_loss  Instances       Size\n",
            "      14/19      4.62G    0.02797    0.01399   0.005153         22        640: 100% 21/21 [00:04<00:00,  4.65it/s]\n",
            "                 Class     Images  Instances          P          R      mAP50   mAP50-95: 100% 11/11 [00:03<00:00,  3.41it/s]\n",
            "                   all        327        327      0.816      0.878      0.926      0.626\n",
            "\n",
            "      Epoch    GPU_mem   box_loss   obj_loss   cls_loss  Instances       Size\n",
            "      15/19      4.62G     0.0245     0.0144   0.003993         18        640: 100% 21/21 [00:04<00:00,  4.77it/s]\n",
            "                 Class     Images  Instances          P          R      mAP50   mAP50-95: 100% 11/11 [00:03<00:00,  3.32it/s]\n",
            "                   all        327        327      0.946      0.982      0.982      0.637\n",
            "\n",
            "      Epoch    GPU_mem   box_loss   obj_loss   cls_loss  Instances       Size\n",
            "      16/19      4.62G    0.02532    0.01417   0.003971         20        640: 100% 21/21 [00:04<00:00,  4.71it/s]\n",
            "                 Class     Images  Instances          P          R      mAP50   mAP50-95: 100% 11/11 [00:03<00:00,  3.33it/s]\n",
            "                   all        327        327      0.954      0.952      0.987      0.649\n",
            "\n",
            "      Epoch    GPU_mem   box_loss   obj_loss   cls_loss  Instances       Size\n",
            "      17/19      4.62G    0.02191    0.01387   0.004495         16        640: 100% 21/21 [00:05<00:00,  4.18it/s]\n",
            "                 Class     Images  Instances          P          R      mAP50   mAP50-95: 100% 11/11 [00:03<00:00,  3.33it/s]\n",
            "                   all        327        327      0.978      0.952       0.99      0.633\n",
            "\n",
            "      Epoch    GPU_mem   box_loss   obj_loss   cls_loss  Instances       Size\n",
            "      18/19      4.62G    0.02559    0.01329   0.003899         20        640: 100% 21/21 [00:04<00:00,  4.74it/s]\n",
            "                 Class     Images  Instances          P          R      mAP50   mAP50-95: 100% 11/11 [00:03<00:00,  3.23it/s]\n",
            "                   all        327        327      0.961      0.992      0.992      0.718\n",
            "\n",
            "      Epoch    GPU_mem   box_loss   obj_loss   cls_loss  Instances       Size\n",
            "      19/19      4.62G    0.02059    0.01252   0.003883         18        640: 100% 21/21 [00:04<00:00,  4.75it/s]\n",
            "                 Class     Images  Instances          P          R      mAP50   mAP50-95: 100% 11/11 [00:03<00:00,  3.43it/s]\n",
            "                   all        327        327      0.955      0.993      0.991      0.722\n",
            "\n",
            "20 epochs completed in 0.048 hours.\n",
            "Optimizer stripped from runs/train/exp/weights/last.pt, 14.4MB\n",
            "Optimizer stripped from runs/train/exp/weights/best.pt, 14.4MB\n",
            "\n",
            "Validating runs/train/exp/weights/best.pt...\n",
            "Fusing layers... \n",
            "Model summary: 157 layers, 7015519 parameters, 0 gradients, 15.8 GFLOPs\n",
            "                 Class     Images  Instances          P          R      mAP50   mAP50-95: 100% 11/11 [00:03<00:00,  2.82it/s]\n",
            "                   all        327        327      0.955      0.993      0.991      0.721\n",
            "                   cat        327        171      0.982      0.994      0.994      0.705\n",
            "                   dog        327        156      0.928      0.993      0.989      0.736\n",
            "Results saved to \u001b[1mruns/train/exp\u001b[0m\n"
          ]
        }
      ],
      "source": [
        "!python train.py --img 640 --epochs 20 --data test1234.yaml --weights yolov5s.pt"
      ]
    },
    {
      "cell_type": "markdown",
      "metadata": {
        "id": "Qs4JM-M8P6Kv"
      },
      "source": [
        "ทดสอบการเทรน"
      ]
    },
    {
      "cell_type": "code",
      "execution_count": null,
      "metadata": {
        "id": "VWsVBunB-odF",
        "colab": {
          "base_uri": "https://localhost:8080/"
        },
        "outputId": "37add8b4-b669-46b7-8856-cf419f8efbf3"
      },
      "outputs": [
        {
          "output_type": "stream",
          "name": "stdout",
          "text": [
            "\u001b[34m\u001b[1mdetect: \u001b[0mweights=['/content/yolov5/runs/train/exp/weights/best.pt'], source=/content/drive/MyDrive/Project_ML_Colab_test_catdog/ai/all, data=data/coco128.yaml, imgsz=[640, 640], conf_thres=0.25, iou_thres=0.45, max_det=1000, device=, view_img=False, save_txt=False, save_conf=False, save_crop=False, nosave=False, classes=None, agnostic_nms=False, augment=False, visualize=False, update=False, project=runs/detect, name=exp, exist_ok=False, line_thickness=3, hide_labels=False, hide_conf=False, half=False, dnn=False, vid_stride=1\n",
            "YOLOv5 🚀 v7.0-59-gfdc35b1 Python-3.8.16 torch-1.13.0+cu116 CUDA:0 (Tesla T4, 15110MiB)\n",
            "\n",
            "Fusing layers... \n",
            "Model summary: 157 layers, 7015519 parameters, 0 gradients, 15.8 GFLOPs\n",
            "image 1/23 /content/drive/MyDrive/Project_ML_Colab_test_catdog/ai/all/10187_1666262772.png: 352x640 1 dog, 20.5ms\n",
            "image 2/23 /content/drive/MyDrive/Project_ML_Colab_test_catdog/ai/all/117637728.jpg: 480x640 1 cat, 12.8ms\n",
            "image 3/23 /content/drive/MyDrive/Project_ML_Colab_test_catdog/ai/all/1370852554-3715029224-o.jpg: 640x480 1 cat, 12.9ms\n",
            "image 4/23 /content/drive/MyDrive/Project_ML_Colab_test_catdog/ai/all/1397918254-IMG2994-o.jpg: 640x480 1 cat, 9.8ms\n",
            "image 5/23 /content/drive/MyDrive/Project_ML_Colab_test_catdog/ai/all/3-ข้อดีที่สำคัญของการมีสุนัข-แมวในชีวิตเรา-850x550.jpg: 416x640 1 cat, 13.5ms\n",
            "image 6/23 /content/drive/MyDrive/Project_ML_Colab_test_catdog/ai/all/30.png: 384x640 1 cat, 13.5ms\n",
            "image 7/23 /content/drive/MyDrive/Project_ML_Colab_test_catdog/ai/all/Beagle-as-a-Hunting-Hound.jpg: 320x640 1 dog, 13.1ms\n",
            "image 8/23 /content/drive/MyDrive/Project_ML_Colab_test_catdog/ai/all/CUTE-KITTY.jpg: 640x480 1 cat, 9.9ms\n",
            "image 9/23 /content/drive/MyDrive/Project_ML_Colab_test_catdog/ai/all/English-Bulldog.jpg: 448x640 1 dog, 13.2ms\n",
            "image 10/23 /content/drive/MyDrive/Project_ML_Colab_test_catdog/ai/all/Pug.jpg: 448x640 1 dog, 10.0ms\n",
            "image 11/23 /content/drive/MyDrive/Project_ML_Colab_test_catdog/ai/all/Siberian-cat-ต่โลโก้1.jpg: 384x640 1 cat, 10.0ms\n",
            "image 12/23 /content/drive/MyDrive/Project_ML_Colab_test_catdog/ai/all/c2-2.jpg: 448x640 1 cat, 10.1ms\n",
            "image 13/23 /content/drive/MyDrive/Project_ML_Colab_test_catdog/ai/all/cat-cute-e1533862828469.jpg: 384x640 1 cat, 9.1ms\n",
            "image 14/23 /content/drive/MyDrive/Project_ML_Colab_test_catdog/ai/all/channels4_profile.jpg: 640x640 1 dog, 12.8ms\n",
            "image 15/23 /content/drive/MyDrive/Project_ML_Colab_test_catdog/ai/all/download (1).jpg: 448x640 1 dog, 10.0ms\n",
            "image 16/23 /content/drive/MyDrive/Project_ML_Colab_test_catdog/ai/all/download.jpg: 640x576 1 dog, 13.3ms\n",
            "image 17/23 /content/drive/MyDrive/Project_ML_Colab_test_catdog/ai/all/images (1).jpg: 640x480 1 cat, 9.9ms\n",
            "image 18/23 /content/drive/MyDrive/Project_ML_Colab_test_catdog/ai/all/images.jpg: 640x544 1 cat, 13.4ms\n",
            "image 19/23 /content/drive/MyDrive/Project_ML_Colab_test_catdog/ai/all/iq5115923fb9843f57ccdfd2a145c208a2.jpg: 480x640 1 dog, 10.3ms\n",
            "image 20/23 /content/drive/MyDrive/Project_ML_Colab_test_catdog/ai/all/o7tygkl94Lhl5ZRjYzk-o.jpg: 640x480 1 cat, 9.9ms\n",
            "image 21/23 /content/drive/MyDrive/Project_ML_Colab_test_catdog/ai/all/pic77-min.jpg: 384x640 1 dog, 9.4ms\n",
            "image 22/23 /content/drive/MyDrive/Project_ML_Colab_test_catdog/ai/all/หมา-สุนัข.jpg: 448x640 1 dog, 10.0ms\n",
            "image 23/23 /content/drive/MyDrive/Project_ML_Colab_test_catdog/ai/all/อยากเลี้ยงน้องหมา-มีค่าใช้จ่ายอะไรบ้าง-02.jpg: 416x640 1 dog, 9.9ms\n",
            "Speed: 0.6ms pre-process, 11.6ms inference, 1.1ms NMS per image at shape (1, 3, 640, 640)\n",
            "Results saved to \u001b[1mruns/detect/exp3\u001b[0m\n"
          ]
        }
      ],
      "source": [
        "!python detect.py --weights /content/yolov5/runs/train/exp/weights/best.pt --img 640 --conf 0.25 --source /content/drive/MyDrive/Project_ML_Colab_test_catdog/ai/all"
      ]
    },
    {
      "cell_type": "code",
      "execution_count": null,
      "metadata": {
        "id": "ngslz7rmPW-V"
      },
      "outputs": [],
      "source": []
    }
  ],
  "metadata": {
    "accelerator": "GPU",
    "colab": {
      "machine_shape": "hm",
      "provenance": [],
      "mount_file_id": "18pY8UZK0_2SX4VwomuHFBIoNv5CRw3fs",
      "authorship_tag": "ABX9TyPZz6Qe/I2pvC2yQBzH0pcp",
      "include_colab_link": true
    },
    "gpuClass": "premium",
    "kernelspec": {
      "display_name": "Python 3",
      "name": "python3"
    },
    "language_info": {
      "name": "python"
    }
  },
  "nbformat": 4,
  "nbformat_minor": 0
}